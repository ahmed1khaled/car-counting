{
 "cells": [
  {
   "cell_type": "code",
   "execution_count": 5,
   "id": "693dd551",
   "metadata": {},
   "outputs": [
    {
     "name": "stdout",
     "output_type": "stream",
     "text": [
      "no. of cars detected : 1\n",
      "no. of cars detected : 2\n",
      "no. of cars detected : 3\n",
      "no. of cars detected : 4\n",
      "no. of cars detected : 5\n",
      "no. of cars detected : 6\n",
      "no. of cars detected : 7\n",
      "no. of cars detected : 8\n",
      "no. of cars detected : 9\n"
     ]
    },
    {
     "ename": "KeyboardInterrupt",
     "evalue": "",
     "output_type": "error",
     "traceback": [
      "\u001b[1;31m---------------------------------------------------------------------------\u001b[0m",
      "\u001b[1;31mKeyboardInterrupt\u001b[0m                         Traceback (most recent call last)",
      "\u001b[1;32m~\\AppData\\Local\\Temp\\ipykernel_6084\\3865586734.py\u001b[0m in \u001b[0;36m<module>\u001b[1;34m\u001b[0m\n\u001b[0;32m     31\u001b[0m     \u001b[0mgrey\u001b[0m \u001b[1;33m=\u001b[0m \u001b[0mcv2\u001b[0m\u001b[1;33m.\u001b[0m\u001b[0mcvtColor\u001b[0m\u001b[1;33m(\u001b[0m\u001b[0mframe1\u001b[0m\u001b[1;33m,\u001b[0m\u001b[0mcv2\u001b[0m\u001b[1;33m.\u001b[0m\u001b[0mCOLOR_BGR2GRAY\u001b[0m\u001b[1;33m)\u001b[0m\u001b[1;33m\u001b[0m\u001b[1;33m\u001b[0m\u001b[0m\n\u001b[0;32m     32\u001b[0m     \u001b[0mblur\u001b[0m \u001b[1;33m=\u001b[0m \u001b[0mcv2\u001b[0m\u001b[1;33m.\u001b[0m\u001b[0mGaussianBlur\u001b[0m\u001b[1;33m(\u001b[0m\u001b[0mgrey\u001b[0m\u001b[1;33m,\u001b[0m\u001b[1;33m(\u001b[0m\u001b[1;36m3\u001b[0m\u001b[1;33m,\u001b[0m\u001b[1;36m3\u001b[0m\u001b[1;33m)\u001b[0m\u001b[1;33m,\u001b[0m\u001b[1;36m10\u001b[0m\u001b[1;33m)\u001b[0m\u001b[1;33m\u001b[0m\u001b[1;33m\u001b[0m\u001b[0m\n\u001b[1;32m---> 33\u001b[1;33m     \u001b[0mimg_sub\u001b[0m \u001b[1;33m=\u001b[0m \u001b[0mbgs\u001b[0m\u001b[1;33m.\u001b[0m\u001b[0mapply\u001b[0m\u001b[1;33m(\u001b[0m\u001b[0mblur\u001b[0m\u001b[1;33m)\u001b[0m\u001b[1;33m\u001b[0m\u001b[1;33m\u001b[0m\u001b[0m\n\u001b[0m\u001b[0;32m     34\u001b[0m     \u001b[1;31m#erode = cv2.erode(img_sub,kernal,iterations=1)\u001b[0m\u001b[1;33m\u001b[0m\u001b[1;33m\u001b[0m\u001b[0m\n\u001b[0;32m     35\u001b[0m \u001b[1;33m\u001b[0m\u001b[0m\n",
      "\u001b[1;31mKeyboardInterrupt\u001b[0m: "
     ]
    }
   ],
   "source": [
    "import cv2\n",
    "import numpy as np\n",
    "from time import sleep\n",
    "\n",
    "w_min=80 #Largura minima do retangulo\n",
    "h_min=80 #Altura minima do retangulo\n",
    "\n",
    "offset=6 #Erro permitido entre pixel  \n",
    "\n",
    "y1=550 #Posição da linha de contagem \n",
    "\n",
    "delay=60\n",
    "detec=[]\n",
    "carr=0\n",
    "\n",
    "def pega_centro(x, y, w, h):\n",
    "    x1 = int(w / 2)\n",
    "    y1 = int(h / 2)\n",
    "    cx = x + x1\n",
    "    cy = y + y1\n",
    "    return cx,cy\n",
    "\n",
    "cap = cv2.VideoCapture('video.mp4')\n",
    "bgs = cv2.createBackgroundSubtractorMOG2()\n",
    "kernal=np.ones((5,5),dtype=np.uint8)\n",
    "while True:\n",
    "    ret , frame1 = cap.read()\n",
    "    if cv2.waitKey(1)==ord('q'):\n",
    "            break\n",
    "\n",
    "    grey = cv2.cvtColor(frame1,cv2.COLOR_BGR2GRAY)\n",
    "    blur = cv2.GaussianBlur(grey,(3,3),10)\n",
    "    img_sub = bgs.apply(blur)\n",
    "    #erode = cv2.erode(img_sub,kernal,iterations=1)\n",
    "    \n",
    "    #kernel = cv2.getStructuringElement(cv2.MORPH_ELLIPSE, (5, 5))\n",
    "    #dilatada = cv2.morphologyEx (dilat, cv2. MORPH_CLOSE , kernel)\n",
    "    #dilatada = cv2.morphologyEx (dilatada, cv2. MORPH_CLOSE , kernel)\n",
    "    \n",
    "    contor,h=cv2.findContours(img_sub,cv2.RETR_TREE,cv2.CHAIN_APPROX_NONE)\n",
    "    \n",
    "    cv2.line(frame1, (25, y1), (1200, y1), (255,127,0), 3) \n",
    "    \n",
    "    for (i,c) in enumerate(contor):\n",
    "        (x,y,w,h)=cv2.boundingRect(c)\n",
    "        \n",
    "        validar_cont=(w>=w_min)and(h>=h_min)\n",
    "        if not validar_cont:\n",
    "            continue\n",
    "        cv2.rectangle(frame1,(x,y),(x+w,y+h),(0,255,0),2)\n",
    "        centro = pega_centro(x, y, w, h)\n",
    "        detec.append(centro)\n",
    "        cv2.circle(frame1, centro, 4, (0, 0,255), -1)\n",
    "        \n",
    "        for(x,y) in detec:\n",
    "            if(y<(y1+offset))and(y>(y1-offset)):\n",
    "                carr+=1\n",
    "                cv2.line(frame1, (25, y1), (1200, y1), (0,127,255), 3)\n",
    "                detec.remove((x,y))\n",
    "                print(\"no. of cars detected : \" + str(carr))\n",
    "                \n",
    "        cv2.putText(frame1, \"VEHICLE COUNT : \"+str(carr), (450, 70), cv2.FONT_HERSHEY_SIMPLEX, 2, (0, 0, 255),5)\n",
    "        cv2.imshow(\"Video Original\" , frame1)\n",
    "        cv2.imshow(\"Detectar\",img_sub)\n",
    "\n",
    "        if cv2.waitKey(1)==ord('q'):\n",
    "            break\n",
    "\n",
    "cv2.destroyAllWindows()\n",
    "cap.release()\n",
    "            \n"
   ]
  },
  {
   "cell_type": "code",
   "execution_count": null,
   "id": "fd032595",
   "metadata": {},
   "outputs": [],
   "source": []
  },
  {
   "cell_type": "code",
   "execution_count": null,
   "id": "98747324",
   "metadata": {},
   "outputs": [],
   "source": []
  }
 ],
 "metadata": {
  "kernelspec": {
   "display_name": "Python 3 (ipykernel)",
   "language": "python",
   "name": "python3"
  },
  "language_info": {
   "codemirror_mode": {
    "name": "ipython",
    "version": 3
   },
   "file_extension": ".py",
   "mimetype": "text/x-python",
   "name": "python",
   "nbconvert_exporter": "python",
   "pygments_lexer": "ipython3",
   "version": "3.9.13"
  }
 },
 "nbformat": 4,
 "nbformat_minor": 5
}
